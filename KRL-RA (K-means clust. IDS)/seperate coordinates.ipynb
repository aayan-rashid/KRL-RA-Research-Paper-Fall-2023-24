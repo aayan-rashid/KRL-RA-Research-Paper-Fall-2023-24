{
  "metadata": {
    "kernelspec": {
      "name": "python",
      "display_name": "Python (Pyodide)",
      "language": "python"
    },
    "language_info": {
      "codemirror_mode": {
        "name": "python",
        "version": 3
      },
      "file_extension": ".py",
      "mimetype": "text/x-python",
      "name": "python",
      "nbconvert_exporter": "python",
      "pygments_lexer": "ipython3",
      "version": "3.8"
    }
  },
  "nbformat_minor": 4,
  "nbformat": 4,
  "cells": [
    {
      "cell_type": "markdown",
      "source": "We will import a dataset of IPv4 IP Addresses and seperate the Addresses as x, y and z octets",
      "metadata": {}
    },
    {
      "cell_type": "code",
      "source": "import csv\nimport pandas as pd\n\ndef separate_ip_addresses(input_file, output_file):\n\n  with open(input_file, 'r') as infile, open(output_file, 'w', newline='') as outfile:\n    reader = csv.reader(infile)\n    writer = csv.writer(outfile)\n\n    # Read the header row (here), which is the IP Addresses\n    header = next(reader)\n    writer.writerow(header + ['x', 'y', 'z', 'extra'])\n\n    for row in reader:\n      ip_address = row[0]  # Assuming the IP address is in the first column\n\n      # Split the IP address into octets\n      octets = ip_address.split(\".\")\n\n      # Check if the IP address is valid (has 4 octets)\n      if len(octets) != 4:\n        print(f\"Invalid IP address: {ip_address}\")\n        continue\n\n      # Convert octets to integers and write them to a new row\n      writer.writerow(row + [int(octet) for octet in octets])\n\nif __name__ == \"__main__\":\n  input_file = \"dataset_ip_addresses.csv\"  # input file name\n  output_file = \"separated_ips.csv\"  # output file name to be created\n    \n  separate_ip_addresses(input_file, output_file)\n    \n  print(\"Successfully separated IP addresses!\")\n\n    \n",
      "metadata": {
        "trusted": true
      },
      "outputs": [
        {
          "name": "stdout",
          "text": "Successfully separated IP addresses!\n",
          "output_type": "stream"
        }
      ],
      "execution_count": 27
    },
    {
      "cell_type": "markdown",
      "source": "Now, we remove any empty values or Nan values in our dataset",
      "metadata": {}
    },
    {
      "cell_type": "code",
      "source": "# Read the seperated.csv file into a dataframe df_new\ndf_new = pd.read_csv(\"separated_ips.csv\")\n\n# Drop rows with all NaN values (empty rows)\ndf = df.dropna(how=\"all\")\n\n# Save the filtered DataFrame to a new CSV file 'df'\ndf.to_csv(\"filtered_data.csv\", index=False)",
      "metadata": {
        "trusted": true
      },
      "outputs": [],
      "execution_count": 35
    },
    {
      "cell_type": "code",
      "source": "df",
      "metadata": {
        "trusted": true
      },
      "outputs": [
        {
          "execution_count": 36,
          "output_type": "execute_result",
          "data": {
            "text/plain": "         IP Address      x      y      z  extra\n0    152.174.74.159  152.0  174.0   74.0  159.0\n1    176.41.145.221  176.0   41.0  145.0  221.0\n2    205.33.230.180  205.0   33.0  230.0  180.0\n3     34.74.173.159   34.0   74.0  173.0  159.0\n4   244.125.152.220  244.0  125.0  152.0  220.0\n..              ...    ...    ...    ...    ...\n95  102.255.148.139  102.0  255.0  148.0  139.0\n96      2.224.27.40    2.0  224.0   27.0   40.0\n97   246.198.81.102  246.0  198.0   81.0  102.0\n98   20.158.102.161   20.0  158.0  102.0  161.0\n99       4.41.97.14    4.0   41.0   97.0   14.0\n\n[100 rows x 5 columns]",
            "text/html": "<div>\n<style scoped>\n    .dataframe tbody tr th:only-of-type {\n        vertical-align: middle;\n    }\n\n    .dataframe tbody tr th {\n        vertical-align: top;\n    }\n\n    .dataframe thead th {\n        text-align: right;\n    }\n</style>\n<table border=\"1\" class=\"dataframe\">\n  <thead>\n    <tr style=\"text-align: right;\">\n      <th></th>\n      <th>IP Address</th>\n      <th>x</th>\n      <th>y</th>\n      <th>z</th>\n      <th>extra</th>\n    </tr>\n  </thead>\n  <tbody>\n    <tr>\n      <th>0</th>\n      <td>152.174.74.159</td>\n      <td>152.0</td>\n      <td>174.0</td>\n      <td>74.0</td>\n      <td>159.0</td>\n    </tr>\n    <tr>\n      <th>1</th>\n      <td>176.41.145.221</td>\n      <td>176.0</td>\n      <td>41.0</td>\n      <td>145.0</td>\n      <td>221.0</td>\n    </tr>\n    <tr>\n      <th>2</th>\n      <td>205.33.230.180</td>\n      <td>205.0</td>\n      <td>33.0</td>\n      <td>230.0</td>\n      <td>180.0</td>\n    </tr>\n    <tr>\n      <th>3</th>\n      <td>34.74.173.159</td>\n      <td>34.0</td>\n      <td>74.0</td>\n      <td>173.0</td>\n      <td>159.0</td>\n    </tr>\n    <tr>\n      <th>4</th>\n      <td>244.125.152.220</td>\n      <td>244.0</td>\n      <td>125.0</td>\n      <td>152.0</td>\n      <td>220.0</td>\n    </tr>\n    <tr>\n      <th>...</th>\n      <td>...</td>\n      <td>...</td>\n      <td>...</td>\n      <td>...</td>\n      <td>...</td>\n    </tr>\n    <tr>\n      <th>95</th>\n      <td>102.255.148.139</td>\n      <td>102.0</td>\n      <td>255.0</td>\n      <td>148.0</td>\n      <td>139.0</td>\n    </tr>\n    <tr>\n      <th>96</th>\n      <td>2.224.27.40</td>\n      <td>2.0</td>\n      <td>224.0</td>\n      <td>27.0</td>\n      <td>40.0</td>\n    </tr>\n    <tr>\n      <th>97</th>\n      <td>246.198.81.102</td>\n      <td>246.0</td>\n      <td>198.0</td>\n      <td>81.0</td>\n      <td>102.0</td>\n    </tr>\n    <tr>\n      <th>98</th>\n      <td>20.158.102.161</td>\n      <td>20.0</td>\n      <td>158.0</td>\n      <td>102.0</td>\n      <td>161.0</td>\n    </tr>\n    <tr>\n      <th>99</th>\n      <td>4.41.97.14</td>\n      <td>4.0</td>\n      <td>41.0</td>\n      <td>97.0</td>\n      <td>14.0</td>\n    </tr>\n  </tbody>\n</table>\n<p>100 rows × 5 columns</p>\n</div>"
          },
          "metadata": {}
        }
      ],
      "execution_count": 36
    },
    {
      "cell_type": "code",
      "source": "",
      "metadata": {
        "trusted": true
      },
      "outputs": [],
      "execution_count": null
    },
    {
      "cell_type": "code",
      "source": "",
      "metadata": {
        "trusted": true
      },
      "outputs": [],
      "execution_count": null
    }
  ]
}